{
  "cells": [
    {
      "cell_type": "markdown",
      "metadata": {
        "id": "lf9XdSOVtwvv"
      },
      "source": [
        "[![Open In Colab](https://colab.research.google.com/assets/colab-badge.svg)](https://colab.research.google.com/github/mbertani/conformal-prediction/blob/main/02_Conformal_Prediction_NLP.ipynb)"
      ]
    },
    {
      "cell_type": "markdown",
      "metadata": {},
      "source": [
        "The purpose of this notebook is to show how Conformal Prediction can be used to better filter toxic or hateful text via conformal outlier detection. We will only use the non-toxic data, and then with type-1 error control identify the toxic outliers\n",
        "\n",
        "This notebook uses Kennedy et al.'s (2020) [pre-trained RoBERTa-Base](https://huggingface.co/ucberkeley-dlab/hate-measure-roberta-base) to score hate speech provided by [publicly released dataset](https://huggingface.co/datasets/ucberkeley-dlab/measuring-hate-speech) described in Kennedy et al. (2020) and Sachdeva et al. (2022).\n",
        "\n",
        "This notebook is inspired by Angelopoulos and Bates' (2021) [A gentle introduction to conformal prediction and distribution-free uncertainty quantification](https://github.com/aangelopoulos/conformal-prediction/blob/main/notebooks/toxic-text-outlier-detection.ipynb)\n",
        "\n",
        "\n",
        "References:\\\n",
        "Angelopoulos, A. N., & Bates, S. (2021). A gentle introduction to conformal prediction and distribution-free uncertainty quantification. arXiv preprint arXiv:2107.07511.\\\n",
        "Kennedy, C. J., Bacon, G., Sahn, A., & von Vacano, C. (2020). Constructing interval variables via faceted Rasch measurement and multitask deep learning: a hate speech application. arXiv preprint arXiv:2009.10277.\\\n",
        "Pratik Sachdeva, Renata Barreto, Geoff Bacon, Alexander Sahn, Claudia von Vacano, and Chris Kennedy. 2022. The Measuring Hate Speech Corpus: Leveraging Rasch Measurement Theory for Data Perspectivism. In Proceedings of the 1st Workshop on Perspectivist Approaches to NLP @LREC2022, pages 83–94, Marseille, France. European Language Resources Association."
      ]
    },
    {
      "cell_type": "markdown",
      "metadata": {},
      "source": [
        "# Download inference data"
      ]
    },
    {
      "cell_type": "code",
      "execution_count": 1,
      "metadata": {},
      "outputs": [
        {
          "name": "stdout",
          "output_type": "stream",
          "text": [
            "mkdir: assets: File exists\n",
            "  % Total    % Received % Xferd  Average Speed   Time    Time     Time  Current\n",
            "                                 Dload  Upload   Total   Spent    Left  Speed\n",
            "100 20129  100 20129    0     0  55750      0 --:--:-- --:--:-- --:--:-- 55759\n"
          ]
        }
      ],
      "source": [
        "!mkdir assets\n",
        "!curl -o \\\n",
        "    assets/NLP_y_pred_n_data_samples=5000.pickle \\\n",
        "    https://raw.githubusercontent.com/mbertani/conformal-prediction/refs/heads/main/assets/NLP_y_pred_n_data_samples%3D5000.pickle"
      ]
    },
    {
      "cell_type": "markdown",
      "metadata": {
        "id": "o-olLdWNCM2r"
      },
      "source": [
        "# Libraries"
      ]
    },
    {
      "cell_type": "code",
      "execution_count": null,
      "metadata": {},
      "outputs": [],
      "source": [
        "!pip install jupyter\n",
        "!pip install -q transformers\n",
        "!pip install -q datasets\n",
        "!pip install -q huggingface_hub\n",
        "!pip install -q torch\n",
        "!pip install tf-keras"
      ]
    },
    {
      "cell_type": "markdown",
      "metadata": {
        "id": "g0GHemLCCXKd"
      },
      "source": [
        "# Imports & Verbosities"
      ]
    },
    {
      "cell_type": "code",
      "execution_count": 2,
      "metadata": {
        "id": "S_TCxMMSCE-i"
      },
      "outputs": [],
      "source": [
        "import numpy as np\n",
        "import datasets, transformers\n",
        "from huggingface_hub import from_pretrained_keras\n",
        "import tensorflow as tf\n",
        "import pickle\n",
        "import os\n",
        "\n",
        "transformers.logging.set_verbosity_error()\n",
        "tf.get_logger().setLevel('ERROR')"
      ]
    },
    {
      "cell_type": "markdown",
      "metadata": {
        "id": "zifp8Ed2Hagd"
      },
      "source": [
        "# Globals"
      ]
    },
    {
      "cell_type": "code",
      "execution_count": 3,
      "metadata": {
        "id": "Xctn8oIlHaKR"
      },
      "outputs": [],
      "source": [
        "n_data_samples = 5000 # download this number of data samples from https://huggingface.co/datasets/ucberkeley-dlab/measuring-hate-speech\n",
        "\n",
        "alpha = 0.1 # 1-alpha is the desired type-1 error (10%). If the desired level is set to 10%, the conformal predictor will be adjusted to ensure that the probability of falsely identifying non-toxic speech as toxic does not exceed 10%\n",
        "n = 200 # n calibration points\n",
        "\n",
        "model_path = \"ucberkeley-dlab/hate-measure-roberta-base\" #https://huggingface.co/ucberkeley-dlab/hate-measure-roberta-base\n",
        "tokenizer_path = \"roberta-base\"\n",
        "\n",
        "data_path = 'ucberkeley-dlab/measuring-hate-speech' #https://huggingface.co/FacebookAI/roberta-base\n",
        "\n",
        "model_inference_results_cached_path = f\"assets/NLP_y_pred_n_data_samples={n_data_samples}.pickle\""
      ]
    },
    {
      "cell_type": "markdown",
      "metadata": {
        "id": "aOSWHBuFDlnh"
      },
      "source": [
        "# Model & Tokenizer"
      ]
    },
    {
      "cell_type": "code",
      "execution_count": 4,
      "metadata": {
        "colab": {
          "base_uri": "https://localhost:8080/",
          "height": 105,
          "referenced_widgets": [
            "2be65ec1ba4d46ac90262b340f17bb9f",
            "5779f1819d5b4f8dadf38e1e56ff95cb",
            "b25fb3c8b8364e75b06bb1215cc9863b",
            "a7cbef80e50d405ba419a346b2a82cbc",
            "5adc67eea09e4544a910f82a05fc1def",
            "a3cd2ae496804a2987fb0c8b9617ed75",
            "4a07e94ac65a43d6a4aaf45d7af80a18",
            "80e160688a2048089c882a66ca127cb1",
            "03c835e0e2744ebea8ecfbd8af2be3e9",
            "24806cb448e74695b5bcce39e58e6b65",
            "56807572712e4c67ab26ea5e1c3bdbaa"
          ]
        },
        "id": "G6r9V7LkDm_N",
        "outputId": "e8d68e27-6c2f-443c-fe59-f27354a69cca"
      },
      "outputs": [
        {
          "data": {
            "application/vnd.jupyter.widget-view+json": {
              "model_id": "600c375ec0294b4dbfadcd4d443ddd26",
              "version_major": 2,
              "version_minor": 0
            },
            "text/plain": [
              "Fetching 5 files:   0%|          | 0/5 [00:00<?, ?it/s]"
            ]
          },
          "metadata": {},
          "output_type": "display_data"
        }
      ],
      "source": [
        "model = from_pretrained_keras(model_path, verbose=0)\n",
        "model.compile()\n",
        "\n",
        "tokenizer = transformers.RobertaTokenizer.from_pretrained(tokenizer_path)"
      ]
    },
    {
      "cell_type": "markdown",
      "metadata": {
        "id": "l7RX8u6hCLao"
      },
      "source": [
        "# Data & Tokenization"
      ]
    },
    {
      "cell_type": "code",
      "execution_count": 7,
      "metadata": {
        "collapsed": true,
        "id": "Ir3utChg8H0R"
      },
      "outputs": [],
      "source": [
        "sub_df = datasets.load_dataset(data_path, 'default', split='train').to_pandas()[['text', 'hate_speech_score']].sample(n=n_data_samples)\n",
        "\n",
        "tokens = tokenizer(sub_df['text'].values.tolist(), return_tensors='np', padding=\"max_length\", max_length=247, truncation=True)"
      ]
    },
    {
      "cell_type": "markdown",
      "metadata": {
        "id": "yl5xDJzb7ksr"
      },
      "source": [
        "# Inference"
      ]
    },
    {
      "cell_type": "code",
      "execution_count": 8,
      "metadata": {
        "colab": {
          "base_uri": "https://localhost:8080/"
        },
        "collapsed": true,
        "id": "o1Qo7ZgICZOW",
        "outputId": "0705b7a0-c90d-4260-92c4-828cf418fc9e"
      },
      "outputs": [],
      "source": [
        "if os.path.exists(model_inference_results_cached_path):\n",
        "    with open(model_inference_results_cached_path, 'rb') as handle:\n",
        "        y_pred = pickle.load(handle)\n",
        "else:\n",
        "    y_pred = model.predict([tokens['input_ids'], tokens['attention_mask']])\n",
        "    with open(model_inference_results_cached_path, 'wb') as handle:\n",
        "        pickle.dump(y_pred, handle, protocol=pickle.HIGHEST_PROTOCOL)"
      ]
    },
    {
      "cell_type": "code",
      "execution_count": 7,
      "metadata": {},
      "outputs": [],
      "source": [
        "# with open(f\"assets/NLP_y_pred_n_data_samples={n_data_samples}.pickle\", 'wb') as handle:\n",
        "#     pickle.dump(y_pred, handle, protocol=pickle.HIGHEST_PROTOCOL)"
      ]
    },
    {
      "cell_type": "code",
      "execution_count": 5,
      "metadata": {},
      "outputs": [
        {
          "data": {
            "text/plain": [
              "array([[ 2.5247893 ],\n",
              "       [-0.88125783],\n",
              "       [ 0.97084135],\n",
              "       ...,\n",
              "       [ 2.1258526 ],\n",
              "       [-2.5380704 ],\n",
              "       [ 1.1036235 ]], dtype=float32)"
            ]
          },
          "execution_count": 5,
          "metadata": {},
          "output_type": "execute_result"
        }
      ],
      "source": [
        "# with open(f\"assets/NLP_y_pred_n_data_samples={n_data_samples}.pickle\", 'rb') as handle:\n",
        "#     y_pred = pickle.load(handle)"
      ]
    },
    {
      "cell_type": "markdown",
      "metadata": {
        "id": "hYPo3A541O6P"
      },
      "source": [
        "# Normalise data"
      ]
    },
    {
      "cell_type": "code",
      "execution_count": 9,
      "metadata": {
        "id": "vIAdVmr7twvy"
      },
      "outputs": [],
      "source": [
        "# Continuous data is in the range = [-8.34 - 6.3]\n",
        "preds = np.array([(float(x)+8.34)/(6.3+8.34) for x in y_pred.flatten().tolist()])\n",
        "is_toxic = np.array([round((float(x)+8.34)/(6.3+8.34)) for x in sub_df['hate_speech_score'].values.tolist()])"
      ]
    },
    {
      "cell_type": "code",
      "execution_count": 10,
      "metadata": {
        "id": "9nhsa66v1sP2"
      },
      "outputs": [],
      "source": [
        "# Look at only the non-toxic data\n",
        "nontoxic = is_toxic == 0\n",
        "\n",
        "preds_nontoxic = preds[nontoxic]\n",
        "preds_toxic = preds[np.invert(nontoxic)]"
      ]
    },
    {
      "cell_type": "code",
      "execution_count": 11,
      "metadata": {
        "id": "Hg1rh63ptwvy"
      },
      "outputs": [],
      "source": [
        "# Split nontoxic data into calibration and validation sets\n",
        "# The conformal predictor can be calibrated to control the type-1 error rate to a desired level, ensuring that the probability of missing toxic speech is kept below a threshold α\n",
        "idx = np.array([1] * n + [0] * (preds_nontoxic.shape[0]-n)) > 0\n",
        "cal_scores, val_scores = preds_nontoxic[idx], preds_nontoxic[np.invert(idx)]"
      ]
    },
    {
      "cell_type": "markdown",
      "metadata": {
        "id": "HAPFtf0otwvy"
      },
      "source": [
        "### Conformal outlier detection happens here"
      ]
    },
    {
      "cell_type": "code",
      "execution_count": 12,
      "metadata": {
        "id": "pqLgPVxItwvy"
      },
      "outputs": [],
      "source": [
        "# Use the outlier detection method to get a threshold on the toxicities\n",
        "# qhat ​is a quantile value derived from the nonconformity scores of the calibration set\n",
        "qhat = np.quantile(cal_scores, np.ceil((n+1)*(1-alpha))/n)\n",
        "\n",
        "# Perform outlier detection on the ind and ood data\n",
        "outlier_ind = val_scores > qhat # Identifying outliers in the in-distribution data. The goal is to have the proportion of outliers be no more than alpha on average\n",
        "outlier_ood = preds_toxic > qhat # Identifying outliers in the out-of-distribution data. Out-of-distribution data is inherently more unpredictable and may not conform to the same patterns as the in-distribution data\n"
      ]
    },
    {
      "cell_type": "code",
      "execution_count": 13,
      "metadata": {
        "colab": {
          "base_uri": "https://localhost:8080/"
        },
        "id": "shD76Iz0twvz",
        "outputId": "d926fb64-4080-4fe8-b629-4dc6fea8df51"
      },
      "outputs": [
        {
          "name": "stdout",
          "output_type": "stream",
          "text": [
            "The type-1 error is 0.0476, the type-2 error is 0.9655, and the threshold is 0.8409.\n"
          ]
        }
      ],
      "source": [
        "# Calculate type-1 and type-2 errors\n",
        "# Type-1 Error (False Negative) - true label (toxic or non-toxic) is not included in the predicted confidence region.\n",
        "# Type-2 Error (False Positive) - predicted confidence region includes both toxic and non-toxic labels, even when the true label is non-toxic.\n",
        "\n",
        "# There's a trade-off between the two types of errors. Reducing type-1 errors (ensuring all toxic speech is identified) might increase type-2 errors (more non-toxic speech being flagged as potentially toxic)\n",
        "\n",
        "# The conformal predictor can be calibrated to control the type-1 error rate to a desired level, ensuring that the probability of missing toxic speech is kept below a threshold, say α. However, this often results in larger prediction sets, which could lead to higher type-2 errors.\n",
        "type1 = outlier_ind.mean()\n",
        "type2 = 1-outlier_ood.mean()\n",
        "print(f\"The type-1 error is {type1:.4f}, the type-2 error is {type2:.4f}, and the threshold is {qhat:.4f}.\")"
      ]
    },
    {
      "cell_type": "code",
      "execution_count": 14,
      "metadata": {
        "colab": {
          "base_uri": "https://localhost:8080/"
        },
        "id": "npt44UUgQ_Is",
        "outputId": "d7d63eb4-28bf-43e0-d0c6-7d0b4b7cf905"
      },
      "outputs": [
        {
          "name": "stdout",
          "output_type": "stream",
          "text": [
            "Men think that they can get away with this sort of behaviour when they pick on women. In this case, apart from the fact that I'm surprised he can actually string a coherent sentence together, there's now an opportunity to identify & charge him @anitasethi URL\n",
            ">Some incels give a lot but get nothing back   And so should be rewarded with pussy? Are you aware that said pussy is attached to a fully realized human being with the exact same natural rights to happiness as you? And that she does not deserve to be forced to have sex with anyone she finds undesirable?    Do you get that women have the same right to reject men that men have to reject women?    How committed are you to the belief that women are holes, rather than human beings deserving of respect?\n",
            "I agree ISIS is true and needs to be stopped!\n",
            "No, the chances of a muslim shooting you in America is almost nil. There are over 50K gun deaths every year christian USA. We should be focusing our attention on Christians and less on peace loving Muslims.\n",
            "No, the chances of a muslim shooting you in America is almost nil. There are over 50K gun deaths every year christian USA. We should be focusing our attention on Christians and less on peace loving Muslims.\n",
            "My mother is 100% Mexican, looks Spanish, has an Italian first name, and a Norwegian last name. Name em what you want.\n",
            "oh that's cute. you didn't even read the thing you claim to support. there is nothing biologically inherent in women that would make them less adapt to do it work. thinking so does in fact make you 'crazy stupid'. sorry!\n",
            "of course, but with the fight for equality (which i completely support) is full equality. not a pick and choose.\n",
            "@sambdoodles @lesbianpapyrus i respect pronouns ofc but i'm just saying it makes no sense to not match your gender to your pronouns there is no point to it that's like the whole point of what pronouns is\n",
            "NUGS lauds Ghanaian Muslims for their immense contribution to peace and progess - URL\n"
          ]
        }
      ],
      "source": [
        "# # Show predictions made by the model that are outliers\n",
        "predictions_post_cf = sub_df['text'].values[nontoxic][n:][outlier_ind==True].tolist()\n",
        "\n",
        "_=[print(item) for item in list(np.random.choice(predictions_post_cf, size=(10,)))]"
      ]
    }
  ],
  "metadata": {
    "accelerator": "GPU",
    "colab": {
      "gpuType": "T4",
      "provenance": []
    },
    "kernelspec": {
      "display_name": "tekna",
      "language": "python",
      "name": "python3"
    },
    "language_info": {
      "codemirror_mode": {
        "name": "ipython",
        "version": 3
      },
      "file_extension": ".py",
      "mimetype": "text/x-python",
      "name": "python",
      "nbconvert_exporter": "python",
      "pygments_lexer": "ipython3",
      "version": "3.9.20"
    },
    "widgets": {
      "application/vnd.jupyter.widget-state+json": {
        "03c835e0e2744ebea8ecfbd8af2be3e9": {
          "model_module": "@jupyter-widgets/controls",
          "model_module_version": "1.5.0",
          "model_name": "ProgressStyleModel",
          "state": {
            "_model_module": "@jupyter-widgets/controls",
            "_model_module_version": "1.5.0",
            "_model_name": "ProgressStyleModel",
            "_view_count": null,
            "_view_module": "@jupyter-widgets/base",
            "_view_module_version": "1.2.0",
            "_view_name": "StyleView",
            "bar_color": null,
            "description_width": ""
          }
        },
        "24806cb448e74695b5bcce39e58e6b65": {
          "model_module": "@jupyter-widgets/base",
          "model_module_version": "1.2.0",
          "model_name": "LayoutModel",
          "state": {
            "_model_module": "@jupyter-widgets/base",
            "_model_module_version": "1.2.0",
            "_model_name": "LayoutModel",
            "_view_count": null,
            "_view_module": "@jupyter-widgets/base",
            "_view_module_version": "1.2.0",
            "_view_name": "LayoutView",
            "align_content": null,
            "align_items": null,
            "align_self": null,
            "border": null,
            "bottom": null,
            "display": null,
            "flex": null,
            "flex_flow": null,
            "grid_area": null,
            "grid_auto_columns": null,
            "grid_auto_flow": null,
            "grid_auto_rows": null,
            "grid_column": null,
            "grid_gap": null,
            "grid_row": null,
            "grid_template_areas": null,
            "grid_template_columns": null,
            "grid_template_rows": null,
            "height": null,
            "justify_content": null,
            "justify_items": null,
            "left": null,
            "margin": null,
            "max_height": null,
            "max_width": null,
            "min_height": null,
            "min_width": null,
            "object_fit": null,
            "object_position": null,
            "order": null,
            "overflow": null,
            "overflow_x": null,
            "overflow_y": null,
            "padding": null,
            "right": null,
            "top": null,
            "visibility": null,
            "width": null
          }
        },
        "2be65ec1ba4d46ac90262b340f17bb9f": {
          "model_module": "@jupyter-widgets/controls",
          "model_module_version": "1.5.0",
          "model_name": "HBoxModel",
          "state": {
            "_dom_classes": [],
            "_model_module": "@jupyter-widgets/controls",
            "_model_module_version": "1.5.0",
            "_model_name": "HBoxModel",
            "_view_count": null,
            "_view_module": "@jupyter-widgets/controls",
            "_view_module_version": "1.5.0",
            "_view_name": "HBoxView",
            "box_style": "",
            "children": [
              "IPY_MODEL_5779f1819d5b4f8dadf38e1e56ff95cb",
              "IPY_MODEL_b25fb3c8b8364e75b06bb1215cc9863b",
              "IPY_MODEL_a7cbef80e50d405ba419a346b2a82cbc"
            ],
            "layout": "IPY_MODEL_5adc67eea09e4544a910f82a05fc1def"
          }
        },
        "4a07e94ac65a43d6a4aaf45d7af80a18": {
          "model_module": "@jupyter-widgets/controls",
          "model_module_version": "1.5.0",
          "model_name": "DescriptionStyleModel",
          "state": {
            "_model_module": "@jupyter-widgets/controls",
            "_model_module_version": "1.5.0",
            "_model_name": "DescriptionStyleModel",
            "_view_count": null,
            "_view_module": "@jupyter-widgets/base",
            "_view_module_version": "1.2.0",
            "_view_name": "StyleView",
            "description_width": ""
          }
        },
        "56807572712e4c67ab26ea5e1c3bdbaa": {
          "model_module": "@jupyter-widgets/controls",
          "model_module_version": "1.5.0",
          "model_name": "DescriptionStyleModel",
          "state": {
            "_model_module": "@jupyter-widgets/controls",
            "_model_module_version": "1.5.0",
            "_model_name": "DescriptionStyleModel",
            "_view_count": null,
            "_view_module": "@jupyter-widgets/base",
            "_view_module_version": "1.2.0",
            "_view_name": "StyleView",
            "description_width": ""
          }
        },
        "5779f1819d5b4f8dadf38e1e56ff95cb": {
          "model_module": "@jupyter-widgets/controls",
          "model_module_version": "1.5.0",
          "model_name": "HTMLModel",
          "state": {
            "_dom_classes": [],
            "_model_module": "@jupyter-widgets/controls",
            "_model_module_version": "1.5.0",
            "_model_name": "HTMLModel",
            "_view_count": null,
            "_view_module": "@jupyter-widgets/controls",
            "_view_module_version": "1.5.0",
            "_view_name": "HTMLView",
            "description": "",
            "description_tooltip": null,
            "layout": "IPY_MODEL_a3cd2ae496804a2987fb0c8b9617ed75",
            "placeholder": "​",
            "style": "IPY_MODEL_4a07e94ac65a43d6a4aaf45d7af80a18",
            "value": "Fetching 5 files: 100%"
          }
        },
        "5adc67eea09e4544a910f82a05fc1def": {
          "model_module": "@jupyter-widgets/base",
          "model_module_version": "1.2.0",
          "model_name": "LayoutModel",
          "state": {
            "_model_module": "@jupyter-widgets/base",
            "_model_module_version": "1.2.0",
            "_model_name": "LayoutModel",
            "_view_count": null,
            "_view_module": "@jupyter-widgets/base",
            "_view_module_version": "1.2.0",
            "_view_name": "LayoutView",
            "align_content": null,
            "align_items": null,
            "align_self": null,
            "border": null,
            "bottom": null,
            "display": null,
            "flex": null,
            "flex_flow": null,
            "grid_area": null,
            "grid_auto_columns": null,
            "grid_auto_flow": null,
            "grid_auto_rows": null,
            "grid_column": null,
            "grid_gap": null,
            "grid_row": null,
            "grid_template_areas": null,
            "grid_template_columns": null,
            "grid_template_rows": null,
            "height": null,
            "justify_content": null,
            "justify_items": null,
            "left": null,
            "margin": null,
            "max_height": null,
            "max_width": null,
            "min_height": null,
            "min_width": null,
            "object_fit": null,
            "object_position": null,
            "order": null,
            "overflow": null,
            "overflow_x": null,
            "overflow_y": null,
            "padding": null,
            "right": null,
            "top": null,
            "visibility": null,
            "width": null
          }
        },
        "80e160688a2048089c882a66ca127cb1": {
          "model_module": "@jupyter-widgets/base",
          "model_module_version": "1.2.0",
          "model_name": "LayoutModel",
          "state": {
            "_model_module": "@jupyter-widgets/base",
            "_model_module_version": "1.2.0",
            "_model_name": "LayoutModel",
            "_view_count": null,
            "_view_module": "@jupyter-widgets/base",
            "_view_module_version": "1.2.0",
            "_view_name": "LayoutView",
            "align_content": null,
            "align_items": null,
            "align_self": null,
            "border": null,
            "bottom": null,
            "display": null,
            "flex": null,
            "flex_flow": null,
            "grid_area": null,
            "grid_auto_columns": null,
            "grid_auto_flow": null,
            "grid_auto_rows": null,
            "grid_column": null,
            "grid_gap": null,
            "grid_row": null,
            "grid_template_areas": null,
            "grid_template_columns": null,
            "grid_template_rows": null,
            "height": null,
            "justify_content": null,
            "justify_items": null,
            "left": null,
            "margin": null,
            "max_height": null,
            "max_width": null,
            "min_height": null,
            "min_width": null,
            "object_fit": null,
            "object_position": null,
            "order": null,
            "overflow": null,
            "overflow_x": null,
            "overflow_y": null,
            "padding": null,
            "right": null,
            "top": null,
            "visibility": null,
            "width": null
          }
        },
        "a3cd2ae496804a2987fb0c8b9617ed75": {
          "model_module": "@jupyter-widgets/base",
          "model_module_version": "1.2.0",
          "model_name": "LayoutModel",
          "state": {
            "_model_module": "@jupyter-widgets/base",
            "_model_module_version": "1.2.0",
            "_model_name": "LayoutModel",
            "_view_count": null,
            "_view_module": "@jupyter-widgets/base",
            "_view_module_version": "1.2.0",
            "_view_name": "LayoutView",
            "align_content": null,
            "align_items": null,
            "align_self": null,
            "border": null,
            "bottom": null,
            "display": null,
            "flex": null,
            "flex_flow": null,
            "grid_area": null,
            "grid_auto_columns": null,
            "grid_auto_flow": null,
            "grid_auto_rows": null,
            "grid_column": null,
            "grid_gap": null,
            "grid_row": null,
            "grid_template_areas": null,
            "grid_template_columns": null,
            "grid_template_rows": null,
            "height": null,
            "justify_content": null,
            "justify_items": null,
            "left": null,
            "margin": null,
            "max_height": null,
            "max_width": null,
            "min_height": null,
            "min_width": null,
            "object_fit": null,
            "object_position": null,
            "order": null,
            "overflow": null,
            "overflow_x": null,
            "overflow_y": null,
            "padding": null,
            "right": null,
            "top": null,
            "visibility": null,
            "width": null
          }
        },
        "a7cbef80e50d405ba419a346b2a82cbc": {
          "model_module": "@jupyter-widgets/controls",
          "model_module_version": "1.5.0",
          "model_name": "HTMLModel",
          "state": {
            "_dom_classes": [],
            "_model_module": "@jupyter-widgets/controls",
            "_model_module_version": "1.5.0",
            "_model_name": "HTMLModel",
            "_view_count": null,
            "_view_module": "@jupyter-widgets/controls",
            "_view_module_version": "1.5.0",
            "_view_name": "HTMLView",
            "description": "",
            "description_tooltip": null,
            "layout": "IPY_MODEL_24806cb448e74695b5bcce39e58e6b65",
            "placeholder": "​",
            "style": "IPY_MODEL_56807572712e4c67ab26ea5e1c3bdbaa",
            "value": " 5/5 [00:00&lt;00:00, 121.98it/s]"
          }
        },
        "b25fb3c8b8364e75b06bb1215cc9863b": {
          "model_module": "@jupyter-widgets/controls",
          "model_module_version": "1.5.0",
          "model_name": "FloatProgressModel",
          "state": {
            "_dom_classes": [],
            "_model_module": "@jupyter-widgets/controls",
            "_model_module_version": "1.5.0",
            "_model_name": "FloatProgressModel",
            "_view_count": null,
            "_view_module": "@jupyter-widgets/controls",
            "_view_module_version": "1.5.0",
            "_view_name": "ProgressView",
            "bar_style": "success",
            "description": "",
            "description_tooltip": null,
            "layout": "IPY_MODEL_80e160688a2048089c882a66ca127cb1",
            "max": 5,
            "min": 0,
            "orientation": "horizontal",
            "style": "IPY_MODEL_03c835e0e2744ebea8ecfbd8af2be3e9",
            "value": 5
          }
        }
      }
    }
  },
  "nbformat": 4,
  "nbformat_minor": 0
}
